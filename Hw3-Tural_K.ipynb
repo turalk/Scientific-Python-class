{
 "cells": [
  {
   "cell_type": "markdown",
   "metadata": {},
   "source": [
    "<div class=\"frontmatter text-center\">\n",
    "<h2> Scientific Python, Fall 2017</h2>\n",
    "<h2> Roberta Sinatra, Johannes Wachs<h2>\n",
    "<h3> Homework 3 as of October 10, 2017</h2>\n",
    "<h3> Tural Karimli<h2>\n",
    "</div>"
   ]
  },
  {
   "cell_type": "markdown",
   "metadata": {},
   "source": [
    "## Questions \n",
    "### From Class 4:\n",
    "\n",
    "##### 1) Write a Python program to concatenate following dictionaries to create a new one.\n",
    "\n",
    "Sample Dictionary: \n",
    "\n",
    "``dic1={1:10, 2:20} \n",
    "dic2={3:30, 4:40} \n",
    "dic3={5:50,6:60} ``\n",
    "\n",
    "_Hint_: Have a look at the documentation for dict.update().\n",
    "\n"
   ]
  },
  {
   "cell_type": "code",
   "execution_count": 2,
   "metadata": {},
   "outputs": [
    {
     "name": "stdout",
     "output_type": "stream",
     "text": [
      "{1: 10, 2: 20, 3: 30, 4: 40, 5: 50, 6: 60}\n"
     ]
    }
   ],
   "source": [
    "dic1={1:10, 2:20} \n",
    "dic2={3:30, 4:40} \n",
    "dic3={5:50,6:60}\n",
    "dic1.update(dic2)\n",
    "dic1.update(dic3)\n",
    "print(dic1)"
   ]
  },
  {
   "cell_type": "markdown",
   "metadata": {},
   "source": [
    "##### 2) Write a Python program to map two lists into a dictionary. For example:\n",
    "```keys = ['red', 'green', 'blue']  \n",
    "values = ['#FF0000','#008000', '#0000FF']  ```\n",
    "\n",
    "should become:\n",
    "```{'blue': '#0000FF', 'green': '#008000', 'red': '#FF0000'}```\n",
    "\n",
    "Try to use a dictionary comprehension."
   ]
  },
  {
   "cell_type": "code",
   "execution_count": 48,
   "metadata": {},
   "outputs": [
    {
     "name": "stdout",
     "output_type": "stream",
     "text": [
      "{'red': '#FF0000', 'green': '#008000', 'blue': '#0000FF'}\n"
     ]
    }
   ],
   "source": [
    "key = ['red', 'green', 'blue']  \n",
    "value = ['#FF0000','#008000', '#0000FF']\n",
    "\n",
    "a=dict(zip(key,value))\n",
    "print(a)"
   ]
  },
  {
   "cell_type": "markdown",
   "metadata": {},
   "source": [
    "##### 3) Write a Python program to multiply all the values in a dictionary, assuming you have a dictionary with floats or ints as your values."
   ]
  },
  {
   "cell_type": "code",
   "execution_count": 66,
   "metadata": {},
   "outputs": [
    {
     "name": "stdout",
     "output_type": "stream",
     "text": [
      "{'red': 25, 'green': 23, 'blue': 28}\n"
     ]
    }
   ],
   "source": [
    "keys = ['red', 'green', 'blue']  \n",
    "values = [25, 23, 28]\n",
    "\n",
    "c=dict(zip(keys,values))\n",
    "print(c)"
   ]
  },
  {
   "cell_type": "code",
   "execution_count": 70,
   "metadata": {},
   "outputs": [
    {
     "name": "stdout",
     "output_type": "stream",
     "text": [
      "16100\n"
     ]
    }
   ],
   "source": [
    "b=sorted(c.items(), key=lambda x:x[1] )\n",
    "y=1\n",
    "l=[x[1] for x in b]\n",
    "for x in l:\n",
    "    y *=x\n",
    "print(y)"
   ]
  },
  {
   "cell_type": "markdown",
   "metadata": {},
   "source": [
    "##### 4) Write a ***function*** to print keys and values of a dictionary:\n",
    "* sorted by key\n",
    "* sorted by value\n"
   ]
  },
  {
   "cell_type": "code",
   "execution_count": 74,
   "metadata": {},
   "outputs": [
    {
     "name": "stdout",
     "output_type": "stream",
     "text": [
      "[23, 25, 28]\n",
      "['green', 'red', 'blue']\n"
     ]
    }
   ],
   "source": [
    "print(l)\n",
    "bb=sorted(c.items(), key=lambda x:x[0] )\n",
    "d=[x[0] for x in b]\n",
    "print(d)"
   ]
  },
  {
   "cell_type": "markdown",
   "metadata": {},
   "source": [
    "### From Class 5:\n",
    "\n",
    "##### 1) Create the list flips with a one-liner (hint: use list comprehension and google how to use if/else statements within the comprehension).\n",
    "\n"
   ]
  },
  {
   "cell_type": "code",
   "execution_count": 87,
   "metadata": {},
   "outputs": [
    {
     "name": "stdout",
     "output_type": "stream",
     "text": [
      "['H', 'H', 'H', 'T', 'H', 'T', 'H', 'T', 'H']\n"
     ]
    }
   ],
   "source": [
    "import random\n",
    "p = 0.7\n",
    "\n",
    "d_n = [\"H\" if random.random()<p else \"T\" for i in range(len(flips))]\n",
    "print(d_n[:9])"
   ]
  },
  {
   "cell_type": "markdown",
   "metadata": {},
   "source": [
    "##### 2) What type of variable is run2count? Can you do casting (i.e. can you change the type to something more familiar)?"
   ]
  },
  {
   "cell_type": "code",
   "execution_count": 80,
   "metadata": {},
   "outputs": [
    {
     "name": "stdout",
     "output_type": "stream",
     "text": [
      "Counter({1: 58, 2: 47, 3: 32, 4: 21, 5: 18, 7: 10, 6: 7, 9: 6, 10: 3, 12: 3, 8: 2, 13: 1, 15: 1})\n",
      "{5: 18, 2: 47, 1: 58, 3: 32, 7: 10, 9: 6, 10: 3, 8: 2, 4: 21, 6: 7, 12: 3, 13: 1, 15: 1}\n"
     ]
    }
   ],
   "source": [
    "import random\n",
    "p = 0.7\n",
    "\n",
    "# Flip the coin 1000 times:\n",
    "flips = []\n",
    "while len(flips) < 1000:\n",
    "    if random.random() < p:\n",
    "        flips.append(\"H\")\n",
    "    else:\n",
    "        flips.append(\"T\")\n",
    "\n",
    "\n",
    "# step 1\n",
    "S = \"\".join( flips ) # join each flip by an empty delimiter\n",
    "# step 2\n",
    "heads_runs = S.split(\"T\")\n",
    "# step 3\n",
    "run_lengths = [ len(run) for run in heads_runs if run ] ## figure out what \"if run\" does...\n",
    "# step 4 (cheating with a python counter)\n",
    "from collections import Counter\n",
    "run2count = Counter(run_lengths) # Counter() acts like a dict\n",
    "print(run2count)\n",
    "type(run2count)\n",
    "run2_count=dict(run2count)\n",
    "print(run2_count)"
   ]
  },
  {
   "cell_type": "markdown",
   "metadata": {},
   "source": [
    "It is possible to cast it at least what we have done in the class (i.e we casted it to dictionary)"
   ]
  },
  {
   "cell_type": "markdown",
   "metadata": {},
   "source": [
    "##### 3) Write code to create a dictionary like run2count, without using Counter"
   ]
  },
  {
   "cell_type": "code",
   "execution_count": 84,
   "metadata": {},
   "outputs": [
    {
     "name": "stdout",
     "output_type": "stream",
     "text": [
      "{5: 18, 2: 47, 1: 58, 3: 32, 7: 10, 9: 6, 10: 3, 8: 2, 4: 21, 6: 7, 12: 3, 13: 1, 15: 1}\n"
     ]
    }
   ],
   "source": [
    "mmm={}\n",
    "for i in run_lengths:\n",
    "    if i not in mmm:\n",
    "        mmm[i] = 1\n",
    "    else:\n",
    "        mmm[i] += 1\n",
    "print (mmm)"
   ]
  },
  {
   "cell_type": "markdown",
   "metadata": {},
   "source": [
    "##### 4) Take the logarithms of the number of runs and plot that vs run length\n",
    "_Note_: writing ```log(count)``` will return an error. The goal of the exercise is to find the solution to this :)"
   ]
  },
  {
   "cell_type": "code",
   "execution_count": 98,
   "metadata": {
    "collapsed": true
   },
   "outputs": [],
   "source": [
    "import matplotlib\n",
    "import matplotlib.pyplot as plt\n",
    "%matplotlib inline"
   ]
  },
  {
   "cell_type": "code",
   "execution_count": 99,
   "metadata": {
    "collapsed": true
   },
   "outputs": [],
   "source": [
    "d=sorted(count.items(), key=lambda x: x[0])\n",
    "x1 = [x[0] for x in d]\n",
    "y1 = [x[1] for x in d]"
   ]
  },
  {
   "cell_type": "code",
   "execution_count": 100,
   "metadata": {
    "collapsed": true
   },
   "outputs": [],
   "source": [
    "from math import log\n",
    "yl=[log(y,10) for y in y1]"
   ]
  },
  {
   "cell_type": "code",
   "execution_count": 101,
   "metadata": {},
   "outputs": [
    {
     "data": {
      "text/plain": [
       "<matplotlib.text.Text at 0x116317cc0>"
      ]
     },
     "execution_count": 101,
     "metadata": {},
     "output_type": "execute_result"
    },
    {
     "data": {
      "image/png": "[encoded data removed]",
      "text/plain": [
       "<matplotlib.figure.Figure at 0x116131be0>"
      ]
     },
     "metadata": {},
     "output_type": "display_data"
    }
   ],
   "source": [
    "plt.figure()\n",
    "plt.plot(x1, yl, 'b--')\n",
    "plt.xlabel('x')\n",
    "plt.ylabel('y')"
   ]
  },
  {
   "cell_type": "markdown",
   "metadata": {},
   "source": [
    "##### 5) Use ```semilogy``` to put the y-axis in a log scale"
   ]
  },
  {
   "cell_type": "code",
   "execution_count": 104,
   "metadata": {},
   "outputs": [
    {
     "data": {
      "text/plain": [
       "[<matplotlib.lines.Line2D at 0x116049908>]"
      ]
     },
     "execution_count": 104,
     "metadata": {},
     "output_type": "execute_result"
    },
    {
     "data": {
      "image/png": "[encoded data removed]",
      "text/plain": [
       "<matplotlib.figure.Figure at 0x116277ba8>"
      ]
     },
     "metadata": {},
     "output_type": "display_data"
    }
   ],
   "source": [
    "plt.figure()\n",
    "plt.semilogy(x1,y1,'k+')"
   ]
  },
  {
   "cell_type": "markdown",
   "metadata": {},
   "source": [
    "##### 6) Figure out how to plot the x-axis in log scale, then both axes."
   ]
  },
  {
   "cell_type": "code",
   "execution_count": 106,
   "metadata": {},
   "outputs": [
    {
     "data": {
      "image/png": "[encoded data removed]",
      "text/plain": [
       "<matplotlib.figure.Figure at 0x116b02390>"
      ]
     },
     "metadata": {},
     "output_type": "display_data"
    }
   ],
   "source": [
    "plt.subplot(1,2,1)\n",
    "plt.semilogx(x1,y1,'k--')\n",
    "plt.subplot(1,2,2)\n",
    "plt.loglog(x1,y1,'k*');"
   ]
  },
  {
   "cell_type": "code",
   "execution_count": null,
   "metadata": {
    "collapsed": true
   },
   "outputs": [],
   "source": []
  }
 ],
 "metadata": {
  "kernelspec": {
   "display_name": "Python 3",
   "language": "python",
   "name": "python3"
  },
  "language_info": {
   "codemirror_mode": {
    "name": "ipython",
    "version": 3
   },
   "file_extension": ".py",
   "mimetype": "text/x-python",
   "name": "python",
   "nbconvert_exporter": "python",
   "pygments_lexer": "ipython3",
   "version": "3.6.1"
  }
 },
 "nbformat": 4,
 "nbformat_minor": 2
}
