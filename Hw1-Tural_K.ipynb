{
 "cells": [
  {
   "cell_type": "markdown",
   "metadata": {},
   "source": [
    "<div class=\"frontmatter text-center\">\n",
    "<h2> Scientific Python, Fall 2017</h2>\n",
    "<h2> Roberta Sinatra, Johannes Wachs<h2>\n",
    "<h3> Homework 1 as of September 25, 2017</h2>\n",
    "<h3> Tural Karimli<h2>\n",
    "</div>"
   ]
  },
  {
   "cell_type": "markdown",
   "metadata": {},
   "source": [
    "### From Notebook 0\n",
    "\n",
    "##### 1) Which potential uses can you see for these notebooks (not just in a teaching setting)? Illustrate 3 examples and explain.\n",
    "\n",
    "* The main feature I liked about the notebook is that we can write texts, do programming, work with links, draw nice graphs and translate into scientific language (for instance LaTeX).\n",
    "\n",
    "\n",
    "* The next advantageous point is as given on the class0 notes its support of many different programming languages. So, if someone has more exposure to work say with C++ then that it makes life easy for that user. So, we can call it very user-friendly. \n",
    "\n",
    "\n",
    "* Last but not least, I would tell its interactive sharing feature can help to reproduce results of previous papers, and do your own modifications. All in all, it has made an impression of effective scientific platform, which can lead to the developments in other dimensions (business, enviromental, etc.)\n",
    "\n",
    "##### 2) Why did we put a ! before head or ipython? Can you figure out the trick? \n",
    "\n",
    "* Exclamation point (! or bang) sign is not specific to head or ipython commands, but it is general shell feathure. That is, using ! you can get access to the underlying shell. \n",
    "\n",
    "\n",
    "##### 3) Explore the function %timeit (online, with help, in the cell, ..) and explain what it does.\n",
    "\n",
    "* Timeit is one of the magic commands. It is used to time the execution of the code. It can be used in 2 modes:\n",
    "    \n",
    "    * Cell mode\n",
    "    * Line mode \n",
    "\n",
    "\n",
    "* %timeit is line magic command. This allows you to time a single line statement. But you can also time multiple lines where you should join them using semicolons. And also, with the help of this command we can compare execution times of two or more alternative code, which can help to use time efficient one. In this mode usage of it is as follow (taken from ipython docs): \n",
    "\n",
    "     ```%timeit [-n<N> -r<R> [-t|-c] -q -p<P> -o] statement```\n",
    "     \n",
    "  ```-n<N>: execute the given statement <N> times in a loop. If this value is not given, a fitting value is chosen.```\n",
    "\n",
    "  ```-r<R>: repeat the loop iteration <R> times and take the best result. Default: 3```\n",
    "\n",
    "  ```-t: use time.time to measure the time, which is the default on Unix. This function measures wall time.```\n",
    "\n",
    "  ```-c: use time.clock to measure the time, which is the default on Windows and measures wall time. On Unix, resource.getrusage is used instead and returns the CPU user time.```\n",
    "\n",
    "  ```-p <P>: use a precision of <P> digits to display the timing result. Default: 3```\n",
    "\n",
    "  ```-q: quiet, do not print result.```\n",
    "\n",
    "  ```-o: return a TimeitResult that can be stored in a variable to inspect the result in more details.```\n",
    "\n",
    "We can apply this to our function on part 2 (max_of_three[]). It can be detected that this defined function is slower than just simple built-in max command (intiutively more lines are less efficient).\n",
    "\n",
    "### From notebook 1\n",
    "\n",
    "##### 1) Explore the functions floor and ceil, part of the math module. What do they do? What are the differences between them? What about the function round, which is built in to Python.\n",
    "\n",
    "* math.floor(x) returns the largest interger less than or equal to x. \n",
    "\n",
    "\n",
    "* math.ceil(x) return the smallest integer greater than or equal to x.\n",
    "\n",
    "\n",
    "* round(x) return the integer value for x if it is float (if x is integer does not change anything). It returns smallet integer greater than x if decimal part if bigger than .5, otherwise it returns largest integer less than or equal to x. Besides that, it allow user to decide to what decimal points [n] s/he wants to round with the following command: round(x,n)\n",
    "\n",
    "\n",
    "##### 2) Define the following function: max_of_three() that takes three numbers, integer or float, as arguments and returns the largest of them?\n",
    "\n",
    "```def max_of_three(x,y,z):\n",
    "    m=max(x,y,z)\n",
    "    return m```\n",
    "    \n",
    "### References\n",
    "\n",
    "http://ipython.readthedocs.io/en/stable/interactive/python-ipython-diff.html#shell-assignment\n",
    "\n",
    "https://docs.python.org/3/library/math.html\n",
    "\n",
    "https://www.tutorialspoint.com/python/number_round.htm\n",
    "\n",
    "https://ipython.org/ipython-doc/dev/interactive/magics.html#magic-timeit"
   ]
  },
  {
   "cell_type": "code",
   "execution_count": 1,
   "metadata": {},
   "outputs": [
    {
     "name": "stdout",
     "output_type": "stream",
     "text": [
      "The slowest run took 5.93 times longer than the fastest. This could mean that an intermediate result is being cached.\n",
      "1000000 loops, best of 3: 392 ns per loop\n"
     ]
    }
   ],
   "source": [
    "# TO check the max_of_three function\n",
    "\n",
    "def max_of_three(x,y,z):\n",
    "    m=max(x,y,z)\n",
    "    return m\n",
    "max_of_three(-355.55,-122.67,0.98)\n",
    "%timeit max_of_three(-355.55,-122.67,0.98)"
   ]
  },
  {
   "cell_type": "code",
   "execution_count": null,
   "metadata": {
    "collapsed": true
   },
   "outputs": [],
   "source": []
  }
 ],
 "metadata": {
  "kernelspec": {
   "display_name": "Python 3",
   "language": "python",
   "name": "python3"
  },
  "language_info": {
   "codemirror_mode": {
    "name": "ipython",
    "version": 3
   },
   "file_extension": ".py",
   "mimetype": "text/x-python",
   "name": "python",
   "nbconvert_exporter": "python",
   "pygments_lexer": "ipython3",
   "version": "3.6.1"
  }
 },
 "nbformat": 4,
 "nbformat_minor": 2
}
