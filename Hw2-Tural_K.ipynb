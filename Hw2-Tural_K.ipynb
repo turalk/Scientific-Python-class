{
 "cells": [
  {
   "cell_type": "markdown",
   "metadata": {},
   "source": [
    "<div class=\"frontmatter text-center\">\n",
    "<h2> Scientific Python, Fall 2017</h2>\n",
    "<h2> Roberta Sinatra, Johannes Wachs<h2>\n",
    "<h3> Homework 2 as of October 2, 2017</h2>\n",
    "<h3> Tural Karimli<h2>\n",
    "</div>"
   ]
  },
  {
   "cell_type": "markdown",
   "metadata": {},
   "source": [
    "## From Class 2"
   ]
  },
  {
   "cell_type": "markdown",
   "metadata": {},
   "source": [
    "##### 1) From the BKK website scraping task, select all the annual and quarterly tickets. How much do you save if you buy four quarterly tickets instead of one annual ticket (use the average price)? Please focus on coding - the point is not to get exactly the 'right' answer, but to show code that downloads the page, parses the html text in a reasonable way, and makes a reasonable inference about the question."
   ]
  },
  {
   "cell_type": "code",
   "execution_count": 5,
   "metadata": {
    "collapsed": true
   },
   "outputs": [],
   "source": [
    "import urllib.request\n",
    "request = urllib.request.Request('http://www.bkk.hu/en/tickets-and-passes/prices/')\n",
    "result = urllib.request.urlopen(request)\n",
    "text = result.read()"
   ]
  },
  {
   "cell_type": "code",
   "execution_count": 6,
   "metadata": {
    "collapsed": true
   },
   "outputs": [],
   "source": [
    "text=str(text)\n",
    "splitted=text.split('<div><span>')\n",
    "temp_s=splitted[1]"
   ]
  },
  {
   "cell_type": "code",
   "execution_count": 7,
   "metadata": {},
   "outputs": [
    {
     "data": {
      "text/plain": [
       "'Single ticket'"
      ]
     },
     "execution_count": 7,
     "metadata": {},
     "output_type": "execute_result"
    }
   ],
   "source": [
    "temp_substring=temp_s.split('</span></div>')[0] ## This takes all the stuff before </span></div>. How does it work?\n",
    "temp_substring[temp_substring.find('>')+len('>'):temp_substring.rfind('</a')]"
   ]
  },
  {
   "cell_type": "code",
   "execution_count": 8,
   "metadata": {},
   "outputs": [
    {
     "data": {
      "text/plain": [
       "'HUF 350'"
      ]
     },
     "execution_count": 8,
     "metadata": {},
     "output_type": "execute_result"
    }
   ],
   "source": [
    "temp_substring=splitted[2].split('</span></div>')\n",
    "temp_substring=temp_substring[0]\n",
    "temp_substring"
   ]
  },
  {
   "cell_type": "code",
   "execution_count": 9,
   "metadata": {
    "collapsed": true
   },
   "outputs": [],
   "source": [
    "type_ticket=[]\n",
    "for element in splitted[1::2]:\n",
    "    #print element\n",
    "    temp=element.split('</span></div>')[0]\n",
    "    ticket=temp[temp.find('>')+len('>'):temp.rfind('</a')]\n",
    "    type_ticket.append(ticket)"
   ]
  },
  {
   "cell_type": "code",
   "execution_count": 10,
   "metadata": {
    "collapsed": true
   },
   "outputs": [],
   "source": [
    "price=[]\n",
    "for element in splitted[2::2]:\n",
    "    temp=element.split('</span></div>')[0]\n",
    "    price.append(temp)"
   ]
  },
  {
   "cell_type": "code",
   "execution_count": 11,
   "metadata": {},
   "outputs": [
    {
     "name": "stdout",
     "output_type": "stream",
     "text": [
      "('Single ticket', 'HUF 350')\n",
      "('Single ticket bought on the spot', 'HUF 450')\n",
      "('Block of 10 tickets', 'HUF 3 000')\n",
      "('Airport shuttle bus single ticket ', 'HUF 900')\n",
      "('Transfer ticket', 'HUF 530')\n",
      "('Short section metro ticket for up to 3 stops', 'HUF 300')\n",
      "('Single ticket for public transport boat', 'HUF 750')\n",
      "('Single ticket for public transport boat Children (under 15)', 'HUF 550')\n",
      "('Metropolitan area ticket', 'HUF 250')\n",
      "('Metropolitan area single ticket (50 % price discount)', 'HUF 125')\n",
      "('Metropolitan area single ticket (90 % price discount)', 'HUF 25')\n",
      "('Airport bus extension ticket', 'HUF 300')\n",
      "('Pupil group travelcard', 'HUF 650/person')\n",
      "('Budapest 24-hour travelcard', 'HUF 1 650')\n",
      "('Budapest 24-hour group travelcard (for 1-5 passengers traveling together)', 'HUF 3 300')\n",
      "('5/30 BKK 24-hour travelcard', 'HUF 4 550')\n",
      "('Budapest 72-hour travelcard', 'HUF 4,150')\n",
      "('Budapest 7-day travelcard', 'HUF 4 950')\n",
      "('Budapest Card for 24 hours', 'HUF 5,500')\n",
      "('Budapest Card for 48 hours', 'HUF 8,500')\n",
      "('Budapest Card for 72 hours', 'HUF 10,900')\n",
      "('Budapest Card for 96 hours', 'HUF 14,500')\n",
      "('Budapest Card for 120 hours', 'HUF 17,500')\n",
      "('Domestic Budapest Card for 48 hours', 'HUF 5,900')\n",
      "('Budapest Card for Juniors for 72 hours', 'HUF 8,900')\n",
      "('Budapest-pass 1-week supplement', 'HUF 2 450')\n",
      "('Budapest-pass 1-week supplement (business)', 'HUF 2 700')\n",
      "('15-day Budapest-pass', 'HUF 6 300')\n",
      "('15-day Budapest-pass (business)', 'HUF 7 000')\n",
      "('15-day Budapest-pass for pupils', 'HUF 2 300')\n",
      "('Monthly Budapest-pass', 'HUF 9 500')\n",
      "('Monthly Budapest-pass (business)', 'HUF 10 500')\n",
      "('Monthly Budapest-pass for pupils', 'HUF 3 450')\n",
      "('Monthly Budapest-pass for students', 'HUF 3 450')\n",
      "('Monthly Budapest-pass for pensioners', 'HUF 3 330')\n",
      "('Monthly Budapest-pass for parents with small children', 'HUF 3 450')\n",
      "('Transferable monthly Budapest-pass', 'HUF 4 125')\n",
      "('Monthly dog pass', 'HUF 5 250')\n",
      "('Metropolitan area pass (5 km)', 'HUF 5 940')\n",
      "('Metropolitan area pass (10 km)', 'HUF 9 580')\n",
      "('Metropolitan area pass (5 km) with 90% price reduction', 'HUF 595')\n",
      "('Metropolitan area pass (10km) with 90% price reduction', 'HUF 960')\n",
      "('Metropolitan area local pass', 'HUF 5 200')\n",
      "('Metropolitan area local pass for students', 'HUF 2 600')\n",
      "('Metropolitan area local pass for pensioners', 'HUF 2 600')\n",
      "('Bicycle pass', 'HUF 540')\n",
      "('Quarterly Budapest-pass', 'HUF 28 500')\n",
      "('Quarterly Budapest-pass (business)', 'HUF 31 500')\n",
      "('Quarterly Budapest-pass for pupils', 'HUF 10 350')\n",
      "('Quarterly Budapest-pass for students', 'HUF 10 350')\n",
      "('Quarterly Budapest-pass for pensioners', 'HUF 9 990')\n",
      "('Semester pass for pupils', 'HUF 16 200')\n",
      "('Semester pass for students', 'HUF 16 200')\n",
      "('Annual all-line Budapest-pass', 'HUF 217 960')\n",
      "('Annual all-line Budapest-pass (business)', 'HUF 219 860')\n",
      "('Transferable annual Budapest-pass', 'HUF 189 000')\n",
      "('Annual Budapest-pass', 'HUF 9 500/month')\n",
      "('Annual Budapest-pass (business)', 'HUF 10 500/month')\n",
      "('Discounted annual BP-pass', 'HUF 103 000')\n",
      "('Discounted annual BP-pass (business)', 'HUF 114 600')\n",
      "('Discounted annual BP-pass for pupils', 'HUF 37 800')\n",
      "('Discounted annual BP-pass for students', 'HUF 37 800')\n",
      "('Discounted annual BP-pass for pensioners', 'HUF 36 600')\n",
      "('Discounted annual Budapest- and MOL Bubi pass (business)', 'HUF 120 600')\n",
      "('Full-fare ferry ticket', 'HUF 170')\n",
      "('Pupil ferry ticket (under 15)', 'HUF 110')\n",
      "('Pensioner ferry ticket', 'HUF 110')\n",
      "('Ferry ticket for standard vehicle (vehicle only)', 'HUF 420')\n",
      "('Ferry ticket for lorries (up to 3.5 tons)', 'HUF 1 050')\n",
      "('Ferry ticket for lorries (above 3.5 tons)', 'HUF 1 750')\n",
      "('Ferry ticket for bicycle (vehicle only)', 'HUF 170')\n",
      "('Ferry ticket for motorcycle (vehicle only)', 'HUF 290')\n",
      "('', '')\n",
      "('Amount of penalty far', 'HUF 16 000')\n",
      "('Penalty fare paid on the spo', 'HUF 8 000')\n",
      "('Late payment fe', 'HUF 16 000')\n",
      "('Administration fee for payment over 30 day', 'HUF 500')\n",
      "('Administration fee for later presentation of annual, semester and quarterly passes', 'HUF 1 000')\n",
      "('Administration fee for later presentation of all other types of passe', 'HUF 2 000')\n",
      "('Handling fe', 'HUF 250')\n",
      "('Handling fee for discounted annual passe', 'HUF 500')\n",
      "('General pass ID', 'HUF 250')\n",
      "('Pass ID for pensioners', 'HUF 250')\n",
      "('Pass ID for parents with small children', 'HUF 250')\n",
      "('Old pass holder \\\\xe2\\\\x80\\\\x93 transparent plastic', 'HUF 35')\n",
      "('Pass holde', 'HUF 55')\n"
     ]
    }
   ],
   "source": [
    "for pair in zip(type_ticket,price): #\n",
    "    print(pair)"
   ]
  },
  {
   "cell_type": "code",
   "execution_count": 22,
   "metadata": {},
   "outputs": [
    {
     "data": {
      "text/plain": [
       "[('Quarterly Budapest-pass', 'HUF 28 500'),\n",
       " ('Quarterly Budapest-pass (business)', 'HUF 31 500'),\n",
       " ('Quarterly Budapest-pass for pupils', 'HUF 10 350'),\n",
       " ('Quarterly Budapest-pass for students', 'HUF 10 350'),\n",
       " ('Quarterly Budapest-pass for pensioners', 'HUF 9 990')]"
      ]
     },
     "execution_count": 22,
     "metadata": {},
     "output_type": "execute_result"
    }
   ],
   "source": [
    "# Select quarterly prices\n",
    "quar =[]\n",
    "for pair in zip(type_ticket,price):\n",
    "    if 'Quarterly' in pair[0]:\n",
    "        quar.append(pair)\n",
    "quar"
   ]
  },
  {
   "cell_type": "code",
   "execution_count": 23,
   "metadata": {},
   "outputs": [
    {
     "data": {
      "text/plain": [
       "[('Annual all-line Budapest-pass', 'HUF 217 960'),\n",
       " ('Annual all-line Budapest-pass (business)', 'HUF 219 860'),\n",
       " ('Annual Budapest-pass', 'HUF 9 500/month'),\n",
       " ('Annual Budapest-pass (business)', 'HUF 10 500/month')]"
      ]
     },
     "execution_count": 23,
     "metadata": {},
     "output_type": "execute_result"
    }
   ],
   "source": [
    "# Select annual prices\n",
    "annl =[]\n",
    "for pair in zip(type_ticket,price):\n",
    "    if 'Annual' in pair[0]:\n",
    "        annl.append(pair)\n",
    "annl"
   ]
  },
  {
   "cell_type": "markdown",
   "metadata": {},
   "source": [
    "Here we can see that we have only two categories, which match for both quarterly and annual: Budapest-pass and Budapest-pass (business). For both categories there is no difference which one you choose, the cost is the same."
   ]
  },
  {
   "cell_type": "code",
   "execution_count": 17,
   "metadata": {},
   "outputs": [
    {
     "name": "stdout",
     "output_type": "stream",
     "text": [
      "[]\n"
     ]
    }
   ],
   "source": [
    "inter=[(x, y) for x in annl[0] for y in quar[0] if x == y]\n",
    "print(inter)"
   ]
  },
  {
   "cell_type": "markdown",
   "metadata": {},
   "source": [
    "##### 2) Use ```%timeit``` (see questions asked during the first class) to check the best time to create ```mylist1``` and ```%%timeit``` for creating ```mylist2```, both defined in the cells below. Which one is faster? Any guess why?"
   ]
  },
  {
   "cell_type": "code",
   "execution_count": 3,
   "metadata": {},
   "outputs": [
    {
     "name": "stdout",
     "output_type": "stream",
     "text": [
      "[(1, 3), (1, 4), (2, 3), (2, 1), (2, 4), (3, 1), (3, 4)]\n",
      "10000000 loops, best of 3: 30.3 ns per loop\n"
     ]
    }
   ],
   "source": [
    "#mylist1 definition for Class2/Question2\n",
    "mylist1=[(x, y) for x in [1,2,3] for y in [3,1,4] if x != y]\n",
    "print(mylist1)\n",
    "%timeit mylist1"
   ]
  },
  {
   "cell_type": "code",
   "execution_count": 4,
   "metadata": {},
   "outputs": [
    {
     "name": "stdout",
     "output_type": "stream",
     "text": [
      "[(1, 3), (1, 4), (2, 3), (2, 1), (2, 4), (3, 1), (3, 4)]\n",
      "The slowest run took 35.68 times longer than the fastest. This could mean that an intermediate result is being cached.\n",
      "10000000 loops, best of 3: 33.9 ns per loop\n"
     ]
    }
   ],
   "source": [
    "#mylist2 definition for Class2/Question2\n",
    "mylist2=[]\n",
    "for x in [1,2,3]:\n",
    "    for y in [3,1,4]:\n",
    "        if x!=y:\n",
    "            mylist2.append((x,y))\n",
    "print(mylist2)\n",
    "%timeit mylist2"
   ]
  },
  {
   "cell_type": "markdown",
   "metadata": {},
   "source": [
    "If we run both function, that is mylist1 and mylist2 we can see for the previous one to get the output we spend 30 nanoseconds, but for the later one it takes around 34 nanoseconds per loop. This means mylist1 is faster. The difference is due to the basic definition of mylist function. In the first scenario we directly define mylist, and we do not need to use append function. However, in the second case at the beginning we define mylist2 as an empty set, and then we append numbers. Hence, it takes longer."
   ]
  },
  {
   "cell_type": "markdown",
   "metadata": {},
   "source": [
    "## From Class 3:"
   ]
  },
  {
   "cell_type": "markdown",
   "metadata": {},
   "source": [
    "##### 1) Create a different sorting function - invent one - that works with strings."
   ]
  },
  {
   "cell_type": "code",
   "execution_count": null,
   "metadata": {
    "collapsed": true
   },
   "outputs": [],
   "source": [
    "# A different approach to sort letters in alphabetical order without using sort function. just curiosity :)\n",
    "l = [\"Z\", \"K\", \"T\", \"B\", \"F\"]\n",
    "y=[]\n",
    "count=65\n",
    "while len(y)<len(l):\n",
    "    for i in l:\n",
    "        if ord(i)==count:\n",
    "            y.append(i)\n",
    "            count+=1\n",
    "print(y)"
   ]
  },
  {
   "cell_type": "markdown",
   "metadata": {},
   "source": [
    "##### 2) Define a function called both_ends: Given a string s, return a string made of the first 2 and the last 2 chars of the original string, so 'spring' yields 'spng'. However, if the string length  is less than 2, return instead the empty string."
   ]
  },
  {
   "cell_type": "code",
   "execution_count": 7,
   "metadata": {},
   "outputs": [
    {
     "data": {
      "text/plain": [
       "0"
      ]
     },
     "execution_count": 7,
     "metadata": {},
     "output_type": "execute_result"
    }
   ],
   "source": [
    "def both_end(s):\n",
    "    if len(s)>2:\n",
    "        d = s[0]+s[1]+s[-2]+s[-1]\n",
    "        return d\n",
    "    else:\n",
    "        return 0\n",
    "both_end('t')"
   ]
  }
 ],
 "metadata": {
  "kernelspec": {
   "display_name": "Python 3",
   "language": "python",
   "name": "python3"
  },
  "language_info": {
   "codemirror_mode": {
    "name": "ipython",
    "version": 3
   },
   "file_extension": ".py",
   "mimetype": "text/x-python",
   "name": "python",
   "nbconvert_exporter": "python",
   "pygments_lexer": "ipython3",
   "version": "3.6.1"
  }
 },
 "nbformat": 4,
 "nbformat_minor": 2
}
