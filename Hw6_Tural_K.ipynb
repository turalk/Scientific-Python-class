{
 "cells": [
  {
   "cell_type": "markdown",
   "metadata": {},
   "source": [
    "<div class=\"frontmatter text-center\">\n",
    "<h2> Scientific Python, Fall 2017</h2>\n",
    "<h2> Roberta Sinatra, Johannes Wachs<h2>\n",
    "<h3> Homework 6 as of October 30, 2017</h2>\n",
    "<h3> Tural Karimli<h2>\n",
    "</div>"
   ]
  },
  {
   "cell_type": "markdown",
   "metadata": {},
   "source": [
    "### From Class 9"
   ]
  },
  {
   "cell_type": "markdown",
   "metadata": {},
   "source": [
    "Recall we have two csvs: passengers that we know survived or perished, a new data on passengers without survival information. Predict the chances of survival of these new data points using their age, sex, and pclass. Specifically:\n",
    "\n",
    "First using the old data:\n",
    "\n",
    "1) bin the age variable into 3 groups (young, middle-aged, old)."
   ]
  },
  {
   "cell_type": "markdown",
   "metadata": {},
   "source": [
    "Start the analysis first let's import the appropirate packages."
   ]
  },
  {
   "cell_type": "code",
   "execution_count": 17,
   "metadata": {
    "collapsed": true
   },
   "outputs": [],
   "source": [
    "import pandas as pd\n",
    "import numpy as np\n",
    "import matplotlib.pyplot as plt\n",
    "%matplotlib inline"
   ]
  },
  {
   "cell_type": "markdown",
   "metadata": {},
   "source": [
    "Now let's read the data"
   ]
  },
  {
   "cell_type": "code",
   "execution_count": 3,
   "metadata": {
    "collapsed": true
   },
   "outputs": [],
   "source": [
    "odf=pd.read_csv('titanic.csv',header=0,sep=',')"
   ]
  },
  {
   "cell_type": "markdown",
   "metadata": {},
   "source": [
    "Let's see the data seems"
   ]
  },
  {
   "cell_type": "code",
   "execution_count": 4,
   "metadata": {},
   "outputs": [
    {
     "data": {
      "text/html": [
       "<div>\n",
       "<style>\n",
       "    .dataframe thead tr:only-child th {\n",
       "        text-align: right;\n",
       "    }\n",
       "\n",
       "    .dataframe thead th {\n",
       "        text-align: left;\n",
       "    }\n",
       "\n",
       "    .dataframe tbody tr th {\n",
       "        vertical-align: top;\n",
       "    }\n",
       "</style>\n",
       "<table border=\"1\" class=\"dataframe\">\n",
       "  <thead>\n",
       "    <tr style=\"text-align: right;\">\n",
       "      <th></th>\n",
       "      <th>PassengerId</th>\n",
       "      <th>Survived</th>\n",
       "      <th>Pclass</th>\n",
       "      <th>Name</th>\n",
       "      <th>Sex</th>\n",
       "      <th>Age</th>\n",
       "      <th>SibSp</th>\n",
       "      <th>Parch</th>\n",
       "      <th>Ticket</th>\n",
       "      <th>Fare</th>\n",
       "      <th>Cabin</th>\n",
       "      <th>Embarked</th>\n",
       "    </tr>\n",
       "  </thead>\n",
       "  <tbody>\n",
       "    <tr>\n",
       "      <th>0</th>\n",
       "      <td>1</td>\n",
       "      <td>0</td>\n",
       "      <td>3</td>\n",
       "      <td>Braund, Mr. Owen Harris</td>\n",
       "      <td>male</td>\n",
       "      <td>22.0</td>\n",
       "      <td>1</td>\n",
       "      <td>0</td>\n",
       "      <td>A/5 21171</td>\n",
       "      <td>7.2500</td>\n",
       "      <td>NaN</td>\n",
       "      <td>S</td>\n",
       "    </tr>\n",
       "    <tr>\n",
       "      <th>1</th>\n",
       "      <td>2</td>\n",
       "      <td>1</td>\n",
       "      <td>1</td>\n",
       "      <td>Cumings, Mrs. John Bradley (Florence Briggs Th...</td>\n",
       "      <td>female</td>\n",
       "      <td>38.0</td>\n",
       "      <td>1</td>\n",
       "      <td>0</td>\n",
       "      <td>PC 17599</td>\n",
       "      <td>71.2833</td>\n",
       "      <td>C85</td>\n",
       "      <td>C</td>\n",
       "    </tr>\n",
       "    <tr>\n",
       "      <th>2</th>\n",
       "      <td>3</td>\n",
       "      <td>1</td>\n",
       "      <td>3</td>\n",
       "      <td>Heikkinen, Miss. Laina</td>\n",
       "      <td>female</td>\n",
       "      <td>26.0</td>\n",
       "      <td>0</td>\n",
       "      <td>0</td>\n",
       "      <td>STON/O2. 3101282</td>\n",
       "      <td>7.9250</td>\n",
       "      <td>NaN</td>\n",
       "      <td>S</td>\n",
       "    </tr>\n",
       "    <tr>\n",
       "      <th>3</th>\n",
       "      <td>4</td>\n",
       "      <td>1</td>\n",
       "      <td>1</td>\n",
       "      <td>Futrelle, Mrs. Jacques Heath (Lily May Peel)</td>\n",
       "      <td>female</td>\n",
       "      <td>35.0</td>\n",
       "      <td>1</td>\n",
       "      <td>0</td>\n",
       "      <td>113803</td>\n",
       "      <td>53.1000</td>\n",
       "      <td>C123</td>\n",
       "      <td>S</td>\n",
       "    </tr>\n",
       "    <tr>\n",
       "      <th>4</th>\n",
       "      <td>5</td>\n",
       "      <td>0</td>\n",
       "      <td>3</td>\n",
       "      <td>Allen, Mr. William Henry</td>\n",
       "      <td>male</td>\n",
       "      <td>35.0</td>\n",
       "      <td>0</td>\n",
       "      <td>0</td>\n",
       "      <td>373450</td>\n",
       "      <td>8.0500</td>\n",
       "      <td>NaN</td>\n",
       "      <td>S</td>\n",
       "    </tr>\n",
       "  </tbody>\n",
       "</table>\n",
       "</div>"
      ],
      "text/plain": [
       "   PassengerId  Survived  Pclass  \\\n",
       "0            1         0       3   \n",
       "1            2         1       1   \n",
       "2            3         1       3   \n",
       "3            4         1       1   \n",
       "4            5         0       3   \n",
       "\n",
       "                                                Name     Sex   Age  SibSp  \\\n",
       "0                            Braund, Mr. Owen Harris    male  22.0      1   \n",
       "1  Cumings, Mrs. John Bradley (Florence Briggs Th...  female  38.0      1   \n",
       "2                             Heikkinen, Miss. Laina  female  26.0      0   \n",
       "3       Futrelle, Mrs. Jacques Heath (Lily May Peel)  female  35.0      1   \n",
       "4                           Allen, Mr. William Henry    male  35.0      0   \n",
       "\n",
       "   Parch            Ticket     Fare Cabin Embarked  \n",
       "0      0         A/5 21171   7.2500   NaN        S  \n",
       "1      0          PC 17599  71.2833   C85        C  \n",
       "2      0  STON/O2. 3101282   7.9250   NaN        S  \n",
       "3      0            113803  53.1000  C123        S  \n",
       "4      0            373450   8.0500   NaN        S  "
      ]
     },
     "execution_count": 4,
     "metadata": {},
     "output_type": "execute_result"
    }
   ],
   "source": [
    "odf.head()"
   ]
  },
  {
   "cell_type": "markdown",
   "metadata": {},
   "source": [
    "Lets bin the data according to age groups: the young are those who are below than 30 (30 is included) middle-aged is between 30 and 60 (60 included) and the old is older than 60."
   ]
  },
  {
   "cell_type": "code",
   "execution_count": 5,
   "metadata": {
    "collapsed": true
   },
   "outputs": [],
   "source": [
    "bins = [0,30,60,100]\n",
    "odf['Age_Group'] = pd.cut(odf['Age'], bins=bins)"
   ]
  },
  {
   "cell_type": "markdown",
   "metadata": {},
   "source": [
    "2) Calculate the average rate of survival for people in each age/sex/pclass group "
   ]
  },
  {
   "cell_type": "code",
   "execution_count": 6,
   "metadata": {},
   "outputs": [
    {
     "data": {
      "text/plain": [
       "Age_Group  Sex     Pclass\n",
       "(0, 30]    female  1         0.942857\n",
       "                   2         0.931818\n",
       "                   3         0.506329\n",
       "           male    1         0.500000\n",
       "                   2         0.192308\n",
       "                   3         0.167630\n",
       "(30, 60]   female  1         0.979167\n",
       "                   2         0.900000\n",
       "                   3         0.272727\n",
       "           male    1         0.412698\n",
       "                   2         0.090909\n",
       "                   3         0.118421\n",
       "(60, 100]  female  1         1.000000\n",
       "                   3         1.000000\n",
       "           male    1         0.083333\n",
       "                   2         0.333333\n",
       "                   3         0.000000\n",
       "Name: Survived, dtype: float64"
      ]
     },
     "execution_count": 6,
     "metadata": {},
     "output_type": "execute_result"
    }
   ],
   "source": [
    "survived_by_class_and_sex=odf.groupby(['Age_Group','Sex','Pclass'])['Survived'].mean()\n",
    "survived_by_class_and_sex"
   ]
  },
  {
   "cell_type": "markdown",
   "metadata": {},
   "source": [
    "Then on the new data:\n",
    "\n",
    "3) infer the chance of survival of each of the new passengers using these averages."
   ]
  },
  {
   "cell_type": "code",
   "execution_count": 7,
   "metadata": {
    "collapsed": true
   },
   "outputs": [],
   "source": [
    "ndf= pd.read_csv('titanic2.csv')"
   ]
  },
  {
   "cell_type": "code",
   "execution_count": 8,
   "metadata": {
    "collapsed": true
   },
   "outputs": [],
   "source": [
    "bins = [0,30,60,100]\n",
    "ndf['Age_Group'] = pd.cut(ndf['Age'], bins=bins)"
   ]
  },
  {
   "cell_type": "code",
   "execution_count": 10,
   "metadata": {},
   "outputs": [
    {
     "data": {
      "text/plain": [
       "Age_Group  Sex     Pclass\n",
       "(0, 30]    female  1          35\n",
       "                   2          44\n",
       "                   3          79\n",
       "           male    1          26\n",
       "                   2          52\n",
       "                   3         173\n",
       "(30, 60]   female  1          48\n",
       "                   2          30\n",
       "                   3          22\n",
       "           male    1          63\n",
       "                   2          44\n",
       "                   3          76\n",
       "(60, 100]  female  1           2\n",
       "                   3           1\n",
       "           male    1          12\n",
       "                   2           3\n",
       "                   3           4\n",
       "Name: Survived, dtype: int64"
      ]
     },
     "execution_count": 10,
     "metadata": {},
     "output_type": "execute_result"
    }
   ],
   "source": [
    "nsurvived_by_class_and_sex=odf.groupby(['Age_Group','Sex','Pclass'])['Survived'].count()\n",
    "nsurvived_by_class_and_sex"
   ]
  },
  {
   "cell_type": "code",
   "execution_count": 11,
   "metadata": {},
   "outputs": [
    {
     "data": {
      "text/plain": [
       "Age_Group  Sex     Pclass\n",
       "(0, 30]    female  1         0.942857\n",
       "                   2         0.931818\n",
       "                   3         0.506329\n",
       "           male    1         0.500000\n",
       "                   2         0.192308\n",
       "                   3         0.167630\n",
       "(30, 60]   female  1         0.979167\n",
       "                   2         0.900000\n",
       "                   3         0.272727\n",
       "           male    1         0.412698\n",
       "                   2         0.090909\n",
       "                   3         0.118421\n",
       "(60, 100]  female  1         1.000000\n",
       "                   3         1.000000\n",
       "           male    1         0.083333\n",
       "                   2         0.333333\n",
       "                   3         0.000000\n",
       "Name: Survived, dtype: float64"
      ]
     },
     "execution_count": 11,
     "metadata": {},
     "output_type": "execute_result"
    }
   ],
   "source": [
    "inference = (nsurvived_by_class_and_sex*survived_by_class_and_sex)/nsurvived_by_class_and_sex\n",
    "inference"
   ]
  },
  {
   "cell_type": "markdown",
   "metadata": {},
   "source": [
    "4) plot a histogram of the estimated survivial chances for the new passengers"
   ]
  },
  {
   "cell_type": "code",
   "execution_count": 12,
   "metadata": {},
   "outputs": [
    {
     "data": {
      "text/plain": [
       "<matplotlib.axes._subplots.AxesSubplot at 0x110e60e48>"
      ]
     },
     "execution_count": 12,
     "metadata": {},
     "output_type": "execute_result"
    }
   ],
   "source": [
    "inference.unstack(1).plot(kind='bar',title='Survival Odds by Sex and Class')"
   ]
  },
  {
   "cell_type": "code",
   "execution_count": 13,
   "metadata": {
    "collapsed": true
   },
   "outputs": [],
   "source": [
    "ax=inference.plot(kind='hist')"
   ]
  },
  {
   "cell_type": "markdown",
   "metadata": {},
   "source": [
    "### From Class 10"
   ]
  },
  {
   "cell_type": "markdown",
   "metadata": {},
   "source": [
    "Using the Divvy Bike data...\n",
    "\n",
    "1) Write a function that rounds each start time to the nearest half hour and add such columns to our dataframe as starthalfhour and endhalfhour."
   ]
  },
  {
   "cell_type": "code",
   "execution_count": 2,
   "metadata": {},
   "outputs": [
    {
     "name": "stderr",
     "output_type": "stream",
     "text": [
      "/Users/turalkarimli/anaconda/lib/python3.6/site-packages/IPython/core/interactiveshell.py:2717: DtypeWarning: Columns (10) have mixed types. Specify dtype option on import or set low_memory=False.\n",
      "  interactivity=interactivity, compiler=compiler, result=result)\n"
     ]
    }
   ],
   "source": [
    "trips=pd.read_csv('divvy_trips_august_2013.csv')"
   ]
  },
  {
   "cell_type": "code",
   "execution_count": 3,
   "metadata": {
    "collapsed": true
   },
   "outputs": [],
   "source": [
    "trips['log_duration']=trips.tripduration.map(lambda x: np.log(x))"
   ]
  },
  {
   "cell_type": "code",
   "execution_count": 4,
   "metadata": {
    "collapsed": true
   },
   "outputs": [],
   "source": [
    "trips.starttime= pd.to_datetime(trips.starttime,format=\"%Y-%m-%d %H:%M\")\n",
    "trips.stoptime= pd.to_datetime(trips.stoptime,format=\"%m/%d/%Y %H:%M\")"
   ]
  },
  {
   "cell_type": "code",
   "execution_count": 5,
   "metadata": {
    "collapsed": true
   },
   "outputs": [],
   "source": [
    "stations = pd.read_csv('Divvy_Stations_2013.csv')"
   ]
  },
  {
   "cell_type": "code",
   "execution_count": 6,
   "metadata": {
    "collapsed": true
   },
   "outputs": [],
   "source": [
    "#first merge trips and stations  for the starting stations\n",
    "trips = pd.merge(trips, stations, how='left', left_on='from_station_name', right_on='name')\n",
    "#then merge trips and stations for the destination stations, added a suffix list for duplicated names\n",
    "trips =pd.merge(trips, stations, how='inner', left_on='to_station_name', right_on='name', suffixes=['_origin', '_dest'])"
   ]
  },
  {
   "cell_type": "code",
   "execution_count": 7,
   "metadata": {},
   "outputs": [
    {
     "data": {
      "text/html": [
       "<div>\n",
       "<style>\n",
       "    .dataframe thead tr:only-child th {\n",
       "        text-align: right;\n",
       "    }\n",
       "\n",
       "    .dataframe thead th {\n",
       "        text-align: left;\n",
       "    }\n",
       "\n",
       "    .dataframe tbody tr th {\n",
       "        vertical-align: top;\n",
       "    }\n",
       "</style>\n",
       "<table border=\"1\" class=\"dataframe\">\n",
       "  <thead>\n",
       "    <tr style=\"text-align: right;\">\n",
       "      <th></th>\n",
       "      <th>from_station_name</th>\n",
       "      <th>to_station_name</th>\n",
       "      <th>trip_id</th>\n",
       "    </tr>\n",
       "  </thead>\n",
       "  <tbody>\n",
       "    <tr>\n",
       "      <th>9736</th>\n",
       "      <td>Lake Shore Dr &amp; Monroe St</td>\n",
       "      <td>Streeter Dr &amp; Illinois St</td>\n",
       "      <td>819</td>\n",
       "    </tr>\n",
       "    <tr>\n",
       "      <th>18475</th>\n",
       "      <td>Streeter Dr &amp; Illinois St</td>\n",
       "      <td>Streeter Dr &amp; Illinois St</td>\n",
       "      <td>652</td>\n",
       "    </tr>\n",
       "    <tr>\n",
       "      <th>9673</th>\n",
       "      <td>Lake Shore Dr &amp; Monroe St</td>\n",
       "      <td>Lake Shore Dr &amp; Monroe St</td>\n",
       "      <td>638</td>\n",
       "    </tr>\n",
       "    <tr>\n",
       "      <th>13067</th>\n",
       "      <td>Millennium Park</td>\n",
       "      <td>Millennium Park</td>\n",
       "      <td>588</td>\n",
       "    </tr>\n",
       "    <tr>\n",
       "      <th>12461</th>\n",
       "      <td>Michigan Ave &amp; Oak St</td>\n",
       "      <td>Michigan Ave &amp; Oak St</td>\n",
       "      <td>570</td>\n",
       "    </tr>\n",
       "    <tr>\n",
       "      <th>13760</th>\n",
       "      <td>Museum Campus</td>\n",
       "      <td>Museum Campus</td>\n",
       "      <td>549</td>\n",
       "    </tr>\n",
       "    <tr>\n",
       "      <th>18404</th>\n",
       "      <td>Streeter Dr &amp; Illinois St</td>\n",
       "      <td>Lake Shore Dr &amp; Monroe St</td>\n",
       "      <td>515</td>\n",
       "    </tr>\n",
       "    <tr>\n",
       "      <th>18430</th>\n",
       "      <td>Streeter Dr &amp; Illinois St</td>\n",
       "      <td>Millennium Park</td>\n",
       "      <td>511</td>\n",
       "    </tr>\n",
       "    <tr>\n",
       "      <th>9702</th>\n",
       "      <td>Lake Shore Dr &amp; Monroe St</td>\n",
       "      <td>Museum Campus</td>\n",
       "      <td>466</td>\n",
       "    </tr>\n",
       "    <tr>\n",
       "      <th>13730</th>\n",
       "      <td>Museum Campus</td>\n",
       "      <td>Lake Shore Dr &amp; Monroe St</td>\n",
       "      <td>463</td>\n",
       "    </tr>\n",
       "  </tbody>\n",
       "</table>\n",
       "</div>"
      ],
      "text/plain": [
       "               from_station_name            to_station_name  trip_id\n",
       "9736   Lake Shore Dr & Monroe St  Streeter Dr & Illinois St      819\n",
       "18475  Streeter Dr & Illinois St  Streeter Dr & Illinois St      652\n",
       "9673   Lake Shore Dr & Monroe St  Lake Shore Dr & Monroe St      638\n",
       "13067            Millennium Park            Millennium Park      588\n",
       "12461      Michigan Ave & Oak St      Michigan Ave & Oak St      570\n",
       "13760              Museum Campus              Museum Campus      549\n",
       "18404  Streeter Dr & Illinois St  Lake Shore Dr & Monroe St      515\n",
       "18430  Streeter Dr & Illinois St            Millennium Park      511\n",
       "9702   Lake Shore Dr & Monroe St              Museum Campus      466\n",
       "13730              Museum Campus  Lake Shore Dr & Monroe St      463"
      ]
     },
     "execution_count": 7,
     "metadata": {},
     "output_type": "execute_result"
    }
   ],
   "source": [
    "station_to_station =trips.groupby(['from_station_name','to_station_name']).trip_id.count().reset_index()\n",
    "station_to_station.sort_values('trip_id',ascending=False)[0:10]"
   ]
  },
  {
   "cell_type": "code",
   "execution_count": 8,
   "metadata": {},
   "outputs": [
    {
     "data": {
      "text/plain": [
       "<pandas.core.groupby.SeriesGroupBy object at 0x11465b9b0>"
      ]
     },
     "execution_count": 8,
     "metadata": {},
     "output_type": "execute_result"
    }
   ],
   "source": [
    "trips.groupby(['from_station_name','to_station_name']).trip_id"
   ]
  },
  {
   "cell_type": "code",
   "execution_count": 9,
   "metadata": {
    "collapsed": true
   },
   "outputs": [],
   "source": [
    "temp=trips.groupby(['from_station_name','to_station_name']).trip_id.count()"
   ]
  },
  {
   "cell_type": "code",
   "execution_count": 10,
   "metadata": {},
   "outputs": [
    {
     "data": {
      "text/html": [
       "<div>\n",
       "<style>\n",
       "    .dataframe thead tr:only-child th {\n",
       "        text-align: right;\n",
       "    }\n",
       "\n",
       "    .dataframe thead th {\n",
       "        text-align: left;\n",
       "    }\n",
       "\n",
       "    .dataframe tbody tr th {\n",
       "        vertical-align: top;\n",
       "    }\n",
       "</style>\n",
       "<table border=\"1\" class=\"dataframe\">\n",
       "  <thead>\n",
       "    <tr style=\"text-align: right;\">\n",
       "      <th></th>\n",
       "      <th>from_station_name</th>\n",
       "      <th>to_station_name</th>\n",
       "      <th>trip_id</th>\n",
       "    </tr>\n",
       "  </thead>\n",
       "  <tbody>\n",
       "    <tr>\n",
       "      <th>0</th>\n",
       "      <td>900 W Harrison</td>\n",
       "      <td>900 W Harrison</td>\n",
       "      <td>14</td>\n",
       "    </tr>\n",
       "    <tr>\n",
       "      <th>1</th>\n",
       "      <td>900 W Harrison</td>\n",
       "      <td>Aberdeen St &amp; Jackson Blvd</td>\n",
       "      <td>3</td>\n",
       "    </tr>\n",
       "    <tr>\n",
       "      <th>2</th>\n",
       "      <td>900 W Harrison</td>\n",
       "      <td>Aberdeen St &amp; Madison St</td>\n",
       "      <td>1</td>\n",
       "    </tr>\n",
       "    <tr>\n",
       "      <th>3</th>\n",
       "      <td>900 W Harrison</td>\n",
       "      <td>Ashland Ave &amp; Wellington Ave</td>\n",
       "      <td>1</td>\n",
       "    </tr>\n",
       "    <tr>\n",
       "      <th>4</th>\n",
       "      <td>900 W Harrison</td>\n",
       "      <td>Blue Island Ave &amp; 18th St</td>\n",
       "      <td>6</td>\n",
       "    </tr>\n",
       "    <tr>\n",
       "      <th>5</th>\n",
       "      <td>900 W Harrison</td>\n",
       "      <td>California Ave &amp; Division St</td>\n",
       "      <td>1</td>\n",
       "    </tr>\n",
       "    <tr>\n",
       "      <th>6</th>\n",
       "      <td>900 W Harrison</td>\n",
       "      <td>California Ave &amp; Milwaukee Ave</td>\n",
       "      <td>1</td>\n",
       "    </tr>\n",
       "    <tr>\n",
       "      <th>7</th>\n",
       "      <td>900 W Harrison</td>\n",
       "      <td>Canal St &amp; Harrison St</td>\n",
       "      <td>1</td>\n",
       "    </tr>\n",
       "    <tr>\n",
       "      <th>8</th>\n",
       "      <td>900 W Harrison</td>\n",
       "      <td>Canal St &amp; Jackson Blvd</td>\n",
       "      <td>16</td>\n",
       "    </tr>\n",
       "    <tr>\n",
       "      <th>9</th>\n",
       "      <td>900 W Harrison</td>\n",
       "      <td>Canal St &amp; Madison St</td>\n",
       "      <td>7</td>\n",
       "    </tr>\n",
       "    <tr>\n",
       "      <th>10</th>\n",
       "      <td>900 W Harrison</td>\n",
       "      <td>Carpenter St &amp; Huron St</td>\n",
       "      <td>1</td>\n",
       "    </tr>\n",
       "    <tr>\n",
       "      <th>11</th>\n",
       "      <td>900 W Harrison</td>\n",
       "      <td>Clark St &amp; Elm St</td>\n",
       "      <td>3</td>\n",
       "    </tr>\n",
       "    <tr>\n",
       "      <th>12</th>\n",
       "      <td>900 W Harrison</td>\n",
       "      <td>Clark St &amp; Randolph St</td>\n",
       "      <td>2</td>\n",
       "    </tr>\n",
       "    <tr>\n",
       "      <th>13</th>\n",
       "      <td>900 W Harrison</td>\n",
       "      <td>Clinton St &amp; 18th St</td>\n",
       "      <td>1</td>\n",
       "    </tr>\n",
       "    <tr>\n",
       "      <th>14</th>\n",
       "      <td>900 W Harrison</td>\n",
       "      <td>Clinton St &amp; Madison St</td>\n",
       "      <td>17</td>\n",
       "    </tr>\n",
       "    <tr>\n",
       "      <th>15</th>\n",
       "      <td>900 W Harrison</td>\n",
       "      <td>Clinton St &amp; Roosevelt Rd</td>\n",
       "      <td>5</td>\n",
       "    </tr>\n",
       "    <tr>\n",
       "      <th>16</th>\n",
       "      <td>900 W Harrison</td>\n",
       "      <td>Clinton St &amp; Tilden St</td>\n",
       "      <td>2</td>\n",
       "    </tr>\n",
       "    <tr>\n",
       "      <th>17</th>\n",
       "      <td>900 W Harrison</td>\n",
       "      <td>Clinton St &amp; Washington Blvd</td>\n",
       "      <td>5</td>\n",
       "    </tr>\n",
       "    <tr>\n",
       "      <th>18</th>\n",
       "      <td>900 W Harrison</td>\n",
       "      <td>Congress Pkwy &amp; Ogden Ave</td>\n",
       "      <td>7</td>\n",
       "    </tr>\n",
       "    <tr>\n",
       "      <th>19</th>\n",
       "      <td>900 W Harrison</td>\n",
       "      <td>Cottage Grove Ave &amp; 51st St</td>\n",
       "      <td>1</td>\n",
       "    </tr>\n",
       "    <tr>\n",
       "      <th>20</th>\n",
       "      <td>900 W Harrison</td>\n",
       "      <td>Daley Center Plaza</td>\n",
       "      <td>2</td>\n",
       "    </tr>\n",
       "    <tr>\n",
       "      <th>21</th>\n",
       "      <td>900 W Harrison</td>\n",
       "      <td>Damen Ave &amp; Chicago Ave</td>\n",
       "      <td>1</td>\n",
       "    </tr>\n",
       "    <tr>\n",
       "      <th>22</th>\n",
       "      <td>900 W Harrison</td>\n",
       "      <td>Damen Ave &amp; Cullerton St</td>\n",
       "      <td>1</td>\n",
       "    </tr>\n",
       "    <tr>\n",
       "      <th>23</th>\n",
       "      <td>900 W Harrison</td>\n",
       "      <td>Damen Ave &amp; Grand Ave</td>\n",
       "      <td>1</td>\n",
       "    </tr>\n",
       "    <tr>\n",
       "      <th>24</th>\n",
       "      <td>900 W Harrison</td>\n",
       "      <td>Dayton St &amp; North Ave</td>\n",
       "      <td>1</td>\n",
       "    </tr>\n",
       "    <tr>\n",
       "      <th>25</th>\n",
       "      <td>900 W Harrison</td>\n",
       "      <td>Dearborn St &amp; Monroe St</td>\n",
       "      <td>1</td>\n",
       "    </tr>\n",
       "    <tr>\n",
       "      <th>26</th>\n",
       "      <td>900 W Harrison</td>\n",
       "      <td>Eckhart Park</td>\n",
       "      <td>1</td>\n",
       "    </tr>\n",
       "    <tr>\n",
       "      <th>27</th>\n",
       "      <td>900 W Harrison</td>\n",
       "      <td>Emerald Ave &amp; 28th St</td>\n",
       "      <td>1</td>\n",
       "    </tr>\n",
       "    <tr>\n",
       "      <th>28</th>\n",
       "      <td>900 W Harrison</td>\n",
       "      <td>Franklin St &amp; Jackson Blvd</td>\n",
       "      <td>7</td>\n",
       "    </tr>\n",
       "    <tr>\n",
       "      <th>29</th>\n",
       "      <td>900 W Harrison</td>\n",
       "      <td>Green St &amp; Randolph St</td>\n",
       "      <td>2</td>\n",
       "    </tr>\n",
       "    <tr>\n",
       "      <th>...</th>\n",
       "      <td>...</td>\n",
       "      <td>...</td>\n",
       "      <td>...</td>\n",
       "    </tr>\n",
       "    <tr>\n",
       "      <th>20230</th>\n",
       "      <td>Wood St &amp; North Ave</td>\n",
       "      <td>Southport Ave &amp; Waveland Ave</td>\n",
       "      <td>1</td>\n",
       "    </tr>\n",
       "    <tr>\n",
       "      <th>20231</th>\n",
       "      <td>Wood St &amp; North Ave</td>\n",
       "      <td>Southport Ave &amp; Wellington Ave</td>\n",
       "      <td>3</td>\n",
       "    </tr>\n",
       "    <tr>\n",
       "      <th>20232</th>\n",
       "      <td>Wood St &amp; North Ave</td>\n",
       "      <td>Southport Ave &amp; Wrightwood Ave</td>\n",
       "      <td>7</td>\n",
       "    </tr>\n",
       "    <tr>\n",
       "      <th>20233</th>\n",
       "      <td>Wood St &amp; North Ave</td>\n",
       "      <td>St Clair St &amp; Erie St</td>\n",
       "      <td>2</td>\n",
       "    </tr>\n",
       "    <tr>\n",
       "      <th>20234</th>\n",
       "      <td>Wood St &amp; North Ave</td>\n",
       "      <td>State St &amp; Erie St</td>\n",
       "      <td>3</td>\n",
       "    </tr>\n",
       "    <tr>\n",
       "      <th>20235</th>\n",
       "      <td>Wood St &amp; North Ave</td>\n",
       "      <td>State St &amp; Harrison St</td>\n",
       "      <td>1</td>\n",
       "    </tr>\n",
       "    <tr>\n",
       "      <th>20236</th>\n",
       "      <td>Wood St &amp; North Ave</td>\n",
       "      <td>State St &amp; Kinzie St</td>\n",
       "      <td>10</td>\n",
       "    </tr>\n",
       "    <tr>\n",
       "      <th>20237</th>\n",
       "      <td>Wood St &amp; North Ave</td>\n",
       "      <td>State St &amp; Pearson St</td>\n",
       "      <td>1</td>\n",
       "    </tr>\n",
       "    <tr>\n",
       "      <th>20238</th>\n",
       "      <td>Wood St &amp; North Ave</td>\n",
       "      <td>State St &amp; Randolph St</td>\n",
       "      <td>1</td>\n",
       "    </tr>\n",
       "    <tr>\n",
       "      <th>20239</th>\n",
       "      <td>Wood St &amp; North Ave</td>\n",
       "      <td>Stave St &amp; Armitage Ave</td>\n",
       "      <td>4</td>\n",
       "    </tr>\n",
       "    <tr>\n",
       "      <th>20240</th>\n",
       "      <td>Wood St &amp; North Ave</td>\n",
       "      <td>Theater on the Lake</td>\n",
       "      <td>4</td>\n",
       "    </tr>\n",
       "    <tr>\n",
       "      <th>20241</th>\n",
       "      <td>Wood St &amp; North Ave</td>\n",
       "      <td>Wells St &amp; Ohio St</td>\n",
       "      <td>2</td>\n",
       "    </tr>\n",
       "    <tr>\n",
       "      <th>20242</th>\n",
       "      <td>Wood St &amp; North Ave</td>\n",
       "      <td>Wells St &amp; Walton St</td>\n",
       "      <td>2</td>\n",
       "    </tr>\n",
       "    <tr>\n",
       "      <th>20243</th>\n",
       "      <td>Wood St &amp; North Ave</td>\n",
       "      <td>Western Ave &amp; Winnebago Ave</td>\n",
       "      <td>5</td>\n",
       "    </tr>\n",
       "    <tr>\n",
       "      <th>20244</th>\n",
       "      <td>Wood St &amp; North Ave</td>\n",
       "      <td>Wilton Ave &amp; Belmont Ave</td>\n",
       "      <td>1</td>\n",
       "    </tr>\n",
       "    <tr>\n",
       "      <th>20245</th>\n",
       "      <td>Wood St &amp; North Ave</td>\n",
       "      <td>Wilton Ave &amp; Diversey Pkwy</td>\n",
       "      <td>5</td>\n",
       "    </tr>\n",
       "    <tr>\n",
       "      <th>20246</th>\n",
       "      <td>Wood St &amp; North Ave</td>\n",
       "      <td>Wood St &amp; Division St</td>\n",
       "      <td>17</td>\n",
       "    </tr>\n",
       "    <tr>\n",
       "      <th>20247</th>\n",
       "      <td>Wood St &amp; North Ave</td>\n",
       "      <td>Wood St &amp; Milwaukee Ave</td>\n",
       "      <td>9</td>\n",
       "    </tr>\n",
       "    <tr>\n",
       "      <th>20248</th>\n",
       "      <td>Wood St &amp; North Ave</td>\n",
       "      <td>Wood St &amp; North Ave</td>\n",
       "      <td>24</td>\n",
       "    </tr>\n",
       "    <tr>\n",
       "      <th>20249</th>\n",
       "      <td>Woodlawn Ave &amp; 55th St</td>\n",
       "      <td>Fort Dearborn Dr &amp; 31st St</td>\n",
       "      <td>10</td>\n",
       "    </tr>\n",
       "    <tr>\n",
       "      <th>20250</th>\n",
       "      <td>Woodlawn Ave &amp; 55th St</td>\n",
       "      <td>Greenwood Ave &amp; 47th St</td>\n",
       "      <td>1</td>\n",
       "    </tr>\n",
       "    <tr>\n",
       "      <th>20251</th>\n",
       "      <td>Woodlawn Ave &amp; 55th St</td>\n",
       "      <td>King Dr &amp; 47th St</td>\n",
       "      <td>5</td>\n",
       "    </tr>\n",
       "    <tr>\n",
       "      <th>20252</th>\n",
       "      <td>Woodlawn Ave &amp; 55th St</td>\n",
       "      <td>Lake Shore Dr &amp; Monroe St</td>\n",
       "      <td>4</td>\n",
       "    </tr>\n",
       "    <tr>\n",
       "      <th>20253</th>\n",
       "      <td>Woodlawn Ave &amp; 55th St</td>\n",
       "      <td>Millennium Park</td>\n",
       "      <td>4</td>\n",
       "    </tr>\n",
       "    <tr>\n",
       "      <th>20254</th>\n",
       "      <td>Woodlawn Ave &amp; 55th St</td>\n",
       "      <td>Museum Campus</td>\n",
       "      <td>3</td>\n",
       "    </tr>\n",
       "    <tr>\n",
       "      <th>20255</th>\n",
       "      <td>Woodlawn Ave &amp; 55th St</td>\n",
       "      <td>Prairie Ave &amp; Garfield Blvd</td>\n",
       "      <td>12</td>\n",
       "    </tr>\n",
       "    <tr>\n",
       "      <th>20256</th>\n",
       "      <td>Woodlawn Ave &amp; 55th St</td>\n",
       "      <td>Shore Drive &amp; 55th St</td>\n",
       "      <td>30</td>\n",
       "    </tr>\n",
       "    <tr>\n",
       "      <th>20257</th>\n",
       "      <td>Woodlawn Ave &amp; 55th St</td>\n",
       "      <td>State St &amp; 35th St</td>\n",
       "      <td>5</td>\n",
       "    </tr>\n",
       "    <tr>\n",
       "      <th>20258</th>\n",
       "      <td>Woodlawn Ave &amp; 55th St</td>\n",
       "      <td>State St &amp; Randolph St</td>\n",
       "      <td>2</td>\n",
       "    </tr>\n",
       "    <tr>\n",
       "      <th>20259</th>\n",
       "      <td>Woodlawn Ave &amp; 55th St</td>\n",
       "      <td>Woodlawn Ave &amp; 55th St</td>\n",
       "      <td>17</td>\n",
       "    </tr>\n",
       "  </tbody>\n",
       "</table>\n",
       "<p>20260 rows × 3 columns</p>\n",
       "</div>"
      ],
      "text/plain": [
       "            from_station_name                 to_station_name  trip_id\n",
       "0              900 W Harrison                  900 W Harrison       14\n",
       "1              900 W Harrison      Aberdeen St & Jackson Blvd        3\n",
       "2              900 W Harrison        Aberdeen St & Madison St        1\n",
       "3              900 W Harrison    Ashland Ave & Wellington Ave        1\n",
       "4              900 W Harrison       Blue Island Ave & 18th St        6\n",
       "5              900 W Harrison    California Ave & Division St        1\n",
       "6              900 W Harrison  California Ave & Milwaukee Ave        1\n",
       "7              900 W Harrison          Canal St & Harrison St        1\n",
       "8              900 W Harrison         Canal St & Jackson Blvd       16\n",
       "9              900 W Harrison           Canal St & Madison St        7\n",
       "10             900 W Harrison         Carpenter St & Huron St        1\n",
       "11             900 W Harrison               Clark St & Elm St        3\n",
       "12             900 W Harrison          Clark St & Randolph St        2\n",
       "13             900 W Harrison            Clinton St & 18th St        1\n",
       "14             900 W Harrison         Clinton St & Madison St       17\n",
       "15             900 W Harrison       Clinton St & Roosevelt Rd        5\n",
       "16             900 W Harrison          Clinton St & Tilden St        2\n",
       "17             900 W Harrison    Clinton St & Washington Blvd        5\n",
       "18             900 W Harrison       Congress Pkwy & Ogden Ave        7\n",
       "19             900 W Harrison     Cottage Grove Ave & 51st St        1\n",
       "20             900 W Harrison              Daley Center Plaza        2\n",
       "21             900 W Harrison         Damen Ave & Chicago Ave        1\n",
       "22             900 W Harrison        Damen Ave & Cullerton St        1\n",
       "23             900 W Harrison           Damen Ave & Grand Ave        1\n",
       "24             900 W Harrison           Dayton St & North Ave        1\n",
       "25             900 W Harrison         Dearborn St & Monroe St        1\n",
       "26             900 W Harrison                    Eckhart Park        1\n",
       "27             900 W Harrison           Emerald Ave & 28th St        1\n",
       "28             900 W Harrison      Franklin St & Jackson Blvd        7\n",
       "29             900 W Harrison          Green St & Randolph St        2\n",
       "...                       ...                             ...      ...\n",
       "20230     Wood St & North Ave    Southport Ave & Waveland Ave        1\n",
       "20231     Wood St & North Ave  Southport Ave & Wellington Ave        3\n",
       "20232     Wood St & North Ave  Southport Ave & Wrightwood Ave        7\n",
       "20233     Wood St & North Ave           St Clair St & Erie St        2\n",
       "20234     Wood St & North Ave              State St & Erie St        3\n",
       "20235     Wood St & North Ave          State St & Harrison St        1\n",
       "20236     Wood St & North Ave            State St & Kinzie St       10\n",
       "20237     Wood St & North Ave           State St & Pearson St        1\n",
       "20238     Wood St & North Ave          State St & Randolph St        1\n",
       "20239     Wood St & North Ave         Stave St & Armitage Ave        4\n",
       "20240     Wood St & North Ave             Theater on the Lake        4\n",
       "20241     Wood St & North Ave              Wells St & Ohio St        2\n",
       "20242     Wood St & North Ave            Wells St & Walton St        2\n",
       "20243     Wood St & North Ave     Western Ave & Winnebago Ave        5\n",
       "20244     Wood St & North Ave        Wilton Ave & Belmont Ave        1\n",
       "20245     Wood St & North Ave      Wilton Ave & Diversey Pkwy        5\n",
       "20246     Wood St & North Ave           Wood St & Division St       17\n",
       "20247     Wood St & North Ave         Wood St & Milwaukee Ave        9\n",
       "20248     Wood St & North Ave             Wood St & North Ave       24\n",
       "20249  Woodlawn Ave & 55th St      Fort Dearborn Dr & 31st St       10\n",
       "20250  Woodlawn Ave & 55th St         Greenwood Ave & 47th St        1\n",
       "20251  Woodlawn Ave & 55th St               King Dr & 47th St        5\n",
       "20252  Woodlawn Ave & 55th St       Lake Shore Dr & Monroe St        4\n",
       "20253  Woodlawn Ave & 55th St                 Millennium Park        4\n",
       "20254  Woodlawn Ave & 55th St                   Museum Campus        3\n",
       "20255  Woodlawn Ave & 55th St     Prairie Ave & Garfield Blvd       12\n",
       "20256  Woodlawn Ave & 55th St           Shore Drive & 55th St       30\n",
       "20257  Woodlawn Ave & 55th St              State St & 35th St        5\n",
       "20258  Woodlawn Ave & 55th St          State St & Randolph St        2\n",
       "20259  Woodlawn Ave & 55th St          Woodlawn Ave & 55th St       17\n",
       "\n",
       "[20260 rows x 3 columns]"
      ]
     },
     "execution_count": 10,
     "metadata": {},
     "output_type": "execute_result"
    }
   ],
   "source": [
    "temp.reset_index()"
   ]
  },
  {
   "cell_type": "markdown",
   "metadata": {},
   "source": [
    "Here we do it\n"
   ]
  },
  {
   "cell_type": "code",
   "execution_count": 11,
   "metadata": {
    "collapsed": true
   },
   "outputs": [],
   "source": [
    "from datetime import timedelta\n",
    "\n",
    "def round_time(dt, mins=30):\n",
    "    \"\"\"\n",
    "    Rounds a datetime object to its nearest half hour (by default).\n",
    "    (e.g. 2014-02-01 10:45:13 becomes 2014-02-01 11:00:00)\n",
    "    \"\"\"\n",
    "    dt += timedelta(minutes=mins/2.)\n",
    "    dt -= timedelta(minutes=dt.minute % mins, seconds=dt.second)\n",
    "    return dt"
   ]
  },
  {
   "cell_type": "code",
   "execution_count": 12,
   "metadata": {
    "collapsed": true
   },
   "outputs": [],
   "source": [
    "trips['starthour'] = trips.starttime.apply(round_time)\n",
    "trips['stophour'] = trips.stoptime.apply(round_time)"
   ]
  },
  {
   "cell_type": "code",
   "execution_count": 13,
   "metadata": {},
   "outputs": [
    {
     "data": {
      "text/html": [
       "<div>\n",
       "<style>\n",
       "    .dataframe thead tr:only-child th {\n",
       "        text-align: right;\n",
       "    }\n",
       "\n",
       "    .dataframe thead th {\n",
       "        text-align: left;\n",
       "    }\n",
       "\n",
       "    .dataframe tbody tr th {\n",
       "        vertical-align: top;\n",
       "    }\n",
       "</style>\n",
       "<table border=\"1\" class=\"dataframe\">\n",
       "  <thead>\n",
       "    <tr style=\"text-align: right;\">\n",
       "      <th></th>\n",
       "      <th>starttime</th>\n",
       "      <th>starthour</th>\n",
       "    </tr>\n",
       "  </thead>\n",
       "  <tbody>\n",
       "    <tr>\n",
       "      <th>0</th>\n",
       "      <td>2013-08-01 00:13:00</td>\n",
       "      <td>2013-08-01 00:00:00</td>\n",
       "    </tr>\n",
       "    <tr>\n",
       "      <th>1</th>\n",
       "      <td>2013-08-01 03:43:00</td>\n",
       "      <td>2013-08-01 03:30:00</td>\n",
       "    </tr>\n",
       "    <tr>\n",
       "      <th>2</th>\n",
       "      <td>2013-08-01 03:42:00</td>\n",
       "      <td>2013-08-01 03:30:00</td>\n",
       "    </tr>\n",
       "    <tr>\n",
       "      <th>3</th>\n",
       "      <td>2013-08-01 03:45:00</td>\n",
       "      <td>2013-08-01 04:00:00</td>\n",
       "    </tr>\n",
       "    <tr>\n",
       "      <th>4</th>\n",
       "      <td>2013-08-01 07:45:00</td>\n",
       "      <td>2013-08-01 08:00:00</td>\n",
       "    </tr>\n",
       "  </tbody>\n",
       "</table>\n",
       "</div>"
      ],
      "text/plain": [
       "            starttime           starthour\n",
       "0 2013-08-01 00:13:00 2013-08-01 00:00:00\n",
       "1 2013-08-01 03:43:00 2013-08-01 03:30:00\n",
       "2 2013-08-01 03:42:00 2013-08-01 03:30:00\n",
       "3 2013-08-01 03:45:00 2013-08-01 04:00:00\n",
       "4 2013-08-01 07:45:00 2013-08-01 08:00:00"
      ]
     },
     "execution_count": 13,
     "metadata": {},
     "output_type": "execute_result"
    }
   ],
   "source": [
    "trips[['starttime', 'starthour']].head(5)"
   ]
  },
  {
   "cell_type": "markdown",
   "metadata": {
    "collapsed": true
   },
   "source": [
    "2) Use the datetime library's .dayofweek method to add the day of the week (i.e. Monday, Tuesday,...) to the dataframe for each trip.\n",
    "\n"
   ]
  },
  {
   "cell_type": "code",
   "execution_count": 14,
   "metadata": {
    "collapsed": true
   },
   "outputs": [],
   "source": [
    "trips['weekdays'] = trips['starttime'].apply(lambda d: d.dayofweek)\n",
    "trips['hours'] = trips['starttime'].apply(lambda d: d.hour)\n",
    "by_weekday_hour = trips.groupby(['weekdays', 'hours'])['trip_id'].count().reset_index()\n",
    "#by_weekday_hour.index.names = ['weekday', 'hour'] # rename MultiIndex"
   ]
  },
  {
   "cell_type": "code",
   "execution_count": 15,
   "metadata": {
    "collapsed": true
   },
   "outputs": [],
   "source": [
    "#solution (#2/3):\n",
    "weekdays = trips['starttime'].apply(lambda d: d.dayofweek)\n",
    "hours = trips['starttime'].apply(lambda d: d.hour)\n",
    "by_weekday_hour = trips.groupby([weekdays, hours])['trip_id'].count()\n",
    "by_weekday_hour.index.names = ['weekday', 'hour'] # rename MultiIndex"
   ]
  },
  {
   "cell_type": "markdown",
   "metadata": {},
   "source": [
    "3) Groupby day of the week and hours and count the number of trips. Use the unstack method on the grouped frame and plot the result.\n",
    "\n"
   ]
  },
  {
   "cell_type": "code",
   "execution_count": 18,
   "metadata": {},
   "outputs": [
    {
     "data": {
      "image/png": "[encoded data removed]",
      "text/plain": [
       "<matplotlib.figure.Figure at 0x1149aed68>"
      ]
     },
     "metadata": {},
     "output_type": "display_data"
    }
   ],
   "source": [
    "by_weekday_hour.unstack(0).plot(figsize=(16,8))\n",
    "plt.title('Trips by weekday hour')\n",
    "plt.ylabel('# of trips started')\n",
    "plt.xlabel('Hour of day')\n",
    "plt.xticks(range(24))\n",
    "plt.xlim(0, 23);"
   ]
  },
  {
   "cell_type": "markdown",
   "metadata": {
    "collapsed": true
   },
   "source": [
    "4) Investigate the relationship between station capacity and traffic. Which two stations would you expand if you had the budget? "
   ]
  },
  {
   "cell_type": "code",
   "execution_count": 19,
   "metadata": {
    "collapsed": true
   },
   "outputs": [],
   "source": [
    "tripfrom=trips.groupby(['from_station_name'])['trip_id'].count()"
   ]
  },
  {
   "cell_type": "code",
   "execution_count": 20,
   "metadata": {
    "collapsed": true
   },
   "outputs": [],
   "source": [
    "tripto=trips.groupby(['to_station_name'])['trip_id'].count()"
   ]
  },
  {
   "cell_type": "code",
   "execution_count": 21,
   "metadata": {
    "collapsed": true
   },
   "outputs": [],
   "source": [
    "traffic=tripfrom+tripto"
   ]
  },
  {
   "cell_type": "code",
   "execution_count": 27,
   "metadata": {},
   "outputs": [],
   "source": [
    "origincap=trips.groupby(['from_station_name'])['dpcapacity_origin'].count()\n",
    "departncap=trips.groupby(['to_station_name'])['dpcapacity_dest'].count()"
   ]
  },
  {
   "cell_type": "code",
   "execution_count": 29,
   "metadata": {},
   "outputs": [],
   "source": [
    "capacity=origincap+departncap"
   ]
  },
  {
   "cell_type": "code",
   "execution_count": 30,
   "metadata": {},
   "outputs": [
    {
     "ename": "NameError",
     "evalue": "name 'df' is not defined",
     "output_type": "error",
     "traceback": [
      "\u001b[0;31m---------------------------------------------------------------------------\u001b[0m",
      "\u001b[0;31mNameError\u001b[0m                                 Traceback (most recent call last)",
      "\u001b[0;32m<ipython-input-30-d3a6774a1c45>\u001b[0m in \u001b[0;36m<module>\u001b[0;34m()\u001b[0m\n\u001b[0;32m----> 1\u001b[0;31m \u001b[0max\u001b[0m\u001b[0;34m=\u001b[0m\u001b[0mdf\u001b[0m\u001b[0;34m.\u001b[0m\u001b[0mplot\u001b[0m\u001b[0;34m(\u001b[0m\u001b[0mkind\u001b[0m\u001b[0;34m=\u001b[0m\u001b[0;34m'scatter'\u001b[0m\u001b[0;34m,\u001b[0m\u001b[0mx\u001b[0m\u001b[0;34m=\u001b[0m\u001b[0;34m'traffic'\u001b[0m\u001b[0;34m,\u001b[0m\u001b[0my\u001b[0m\u001b[0;34m=\u001b[0m\u001b[0;34m'capacity'\u001b[0m\u001b[0;34m)\u001b[0m\u001b[0;34m\u001b[0m\u001b[0m\n\u001b[0m",
      "\u001b[0;31mNameError\u001b[0m: name 'df' is not defined"
     ]
    }
   ],
   "source": [
    "ax=plot(kind='scatter',x='traffic',y='capacity')"
   ]
  }
 ],
 "metadata": {
  "kernelspec": {
   "display_name": "Python 3",
   "language": "python",
   "name": "python3"
  },
  "language_info": {
   "codemirror_mode": {
    "name": "ipython",
    "version": 3
   },
   "file_extension": ".py",
   "mimetype": "text/x-python",
   "name": "python",
   "nbconvert_exporter": "python",
   "pygments_lexer": "ipython3",
   "version": "3.6.1"
  }
 },
 "nbformat": 4,
 "nbformat_minor": 2
}
